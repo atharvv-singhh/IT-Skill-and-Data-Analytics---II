import pandas as pd
import matplotlib.pyplot as plt
import seaborn as sns
import statsmodels.api as sm
from scipy.stats import pearsonr

# Load your dataset (adjust path if needed)
df = pd.read_csv("Advertising Budget and Sales.csv")

# Drop unnecessary column
df = df.drop(columns=["Unnamed: 0"])

# ----- Descriptive Statistics -----
print("Descriptive Statistics:\n", df.describe())

# ----- Correlation Matrix -----
corr = df.corr()
print("\nCorrelation with Sales:\n", corr["Sales ($)"].sort_values(ascending=False))

# ----- Correlation Heatmap -----
plt.figure(figsize=(8, 6))
sns.heatmap(corr, annot=True, cmap="coolwarm", fmt=".2f")
plt.title("Correlation Matrix")
plt.show()

# ----- Pairplot -----
sns.pairplot(df)
plt.suptitle("Pairwise Relationships", y=1.02)
plt.show()

# ----- Multiple Linear Regression -----
X = df[['TV Ad Budget ($)', 'Radio Ad Budget ($)', 'Newspaper Ad Budget ($)']]
y = df['Sales ($)']
X = sm.add_constant(X)  # add constant/intercept
model = sm.OLS(y, X).fit()
print("\nRegression Summary:\n", model.summary())

# ----- Residual Plot -----
plt.figure(figsize=(6, 4))
sns.residplot(x=model.fittedvalues, y=model.resid, lowess=True, color="purple")
plt.axhline(0, color='black', linestyle='--')
plt.xlabel("Fitted Values")
plt.ylabel("Residuals")
plt.title("Residuals vs Fitted")
plt.show()

# ----- Hypothesis Testing (TV vs Sales) -----
# H0: No correlation between TV budget and Sales
tv_corr, p_value = pearsonr(df['TV Ad Budget ($)'], df['Sales ($)'])
print(f"\nTV Ad vs Sales: Correlation = {tv_corr:.2f}, p-value = {p_value:.5f}")

if p_value < 0.05:
    print("✅ Reject the null hypothesis: There is a statistically significant correlation.")
else:
    print("❌ Fail to reject the null hypothesis: No significant correlation.")
